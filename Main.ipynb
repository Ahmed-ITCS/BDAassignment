{
  "nbformat": 4,
  "nbformat_minor": 0,
  "metadata": {
    "colab": {
      "provenance": []
    },
    "kernelspec": {
      "name": "python3",
      "display_name": "Python 3"
    },
    "language_info": {
      "name": "python"
    }
  },
  "cells": [
    {
      "cell_type": "code",
      "source": [
        "!ls\n"
      ],
      "metadata": {
        "colab": {
          "base_uri": "https://localhost:8080/"
        },
        "id": "SuGs_b-jnXJp",
        "outputId": "e3fcf15f-d8ff-4ca2-c4e1-e753e9a0c84e"
      },
      "execution_count": 3,
      "outputs": [
        {
          "output_type": "stream",
          "name": "stdout",
          "text": [
            "household_power_consumption.txt  plot1.py   plot2.py   plot3.py   plot4.py     sample_data\n",
            "plot1.png\t\t\t plot2.png  plot3.png  plot4.png  __pycache__\n"
          ]
        }
      ]
    },
    {
      "cell_type": "code",
      "source": [
        "import pandas as pd\n",
        "from plot1 import plot_graph1\n",
        "from plot2 import plot_graph2\n",
        "from plot3 import plot_graph3\n",
        "from plot4 import plot_graph4\n",
        "\n",
        "data = pd.read_csv(\"household_power_consumption.txt\", sep=';', na_values='?', usecols=[0, 1, 2, 3, 4, 5, 6, 7, 8])\n",
        "\n",
        "data['DateTime'] = pd.to_datetime(data['Date'] + ' ' + data['Time'], format='%d/%m/%Y %H:%M:%S')\n",
        "\n",
        "data.set_index('DateTime', inplace=True)\n",
        "\n",
        "data_subset = data['2007-02-01':'2007-02-02']\n",
        "\n",
        "plot_graph1(data_subset)\n",
        "plot_graph2(data_subset)\n",
        "plot_graph3(data_subset)\n",
        "plot_graph4(data_subset)"
      ],
      "metadata": {
        "id": "4wBtTont6ny3"
      },
      "execution_count": 4,
      "outputs": []
    }
  ]
}